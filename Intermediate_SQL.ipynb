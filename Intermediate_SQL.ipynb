{
  "nbformat": 4,
  "nbformat_minor": 0,
  "metadata": {
    "colab": {
      "provenance": []
    },
    "kernelspec": {
      "name": "python3",
      "display_name": "Python 3"
    },
    "language_info": {
      "name": "python"
    }
  },
  "cells": [
    {
      "cell_type": "markdown",
      "source": [
        "# Step 1: Creating the Database Tables\n",
        "Install SQLite (optional, it's usually pre-installed) Google Colab already includes SQLite by default, but you can double-check by running the following command:"
      ],
      "metadata": {
        "id": "-YfH5RJthp9R"
      }
    },
    {
      "cell_type": "code",
      "source": [
        "!apt-get install sqlite3\n"
      ],
      "metadata": {
        "colab": {
          "base_uri": "https://localhost:8080/"
        },
        "id": "Ad569gxuhkAq",
        "outputId": "00cd5015-d08c-4b3a-fd27-4aa2975a4418"
      },
      "execution_count": 16,
      "outputs": [
        {
          "output_type": "stream",
          "name": "stdout",
          "text": [
            "Reading package lists... Done\n",
            "Building dependency tree... Done\n",
            "Reading state information... Done\n",
            "sqlite3 is already the newest version (3.37.2-2ubuntu0.3).\n",
            "0 upgraded, 0 newly installed, 0 to remove and 49 not upgraded.\n"
          ]
        }
      ]
    },
    {
      "cell_type": "markdown",
      "source": [
        "2. Creating the Database and Tables in Python using SQLite"
      ],
      "metadata": {
        "id": "V3q6TS8ZhyOP"
      }
    },
    {
      "cell_type": "code",
      "source": [
        "import sqlite3\n",
        "from tabulate import tabulate\n",
        "\n",
        "# Connect to SQLite database (it will create a new file if it doesn't exist)\n",
        "conn = sqlite3.connect('customer_orders.db')\n",
        "cursor = conn.cursor()\n",
        "\n",
        "# Create Customers table\n",
        "cursor.execute('''\n",
        "CREATE TABLE IF NOT EXISTS Customers (\n",
        "    CustomerID INTEGER PRIMARY KEY,\n",
        "    CustomerName TEXT NOT NULL,\n",
        "    Country TEXT NOT NULL\n",
        ")\n",
        "''')\n",
        "\n",
        "# Create Orders table\n",
        "cursor.execute('''\n",
        "CREATE TABLE IF NOT EXISTS Orders (\n",
        "    OrderID INTEGER PRIMARY KEY,\n",
        "    CustomerID INTEGER,\n",
        "    OrderDate TEXT NOT NULL,\n",
        "    TotalAmount REAL,\n",
        "    FOREIGN KEY (CustomerID) REFERENCES Customers(CustomerID)\n",
        ")\n",
        "''')\n",
        "\n",
        "conn.commit()\n"
      ],
      "metadata": {
        "id": "kSrsXVy8h3Ia"
      },
      "execution_count": 17,
      "outputs": []
    },
    {
      "cell_type": "markdown",
      "source": [
        "# Step 2: Inserting Data into the Tables"
      ],
      "metadata": {
        "id": "iZO9EXfAh81s"
      }
    },
    {
      "cell_type": "markdown",
      "source": [
        "The error you're encountering, `IntegrityError: UNIQUE constraint failed: Customers.CustomerID`, occurs because you're trying to insert a value for `CustomerID` that already exists in the `Customers` table. This means that the table already contains records with the same `CustomerID`.\n",
        "\n",
        "To fix this, you have a few options:\n",
        "\n",
        "### Option 1: Clear the Table Before Inserting\n",
        "You can delete existing data from the table before reinserting the values to avoid duplicate `CustomerID` errors.\n",
        "\n",
        "Add this before your insert statement:\n",
        "\n",
        "```python\n",
        "# Clear the Customers table before inserting\n",
        "cursor.execute('DELETE FROM Customers')\n",
        "\n",
        "# Clear the Orders table before inserting\n",
        "cursor.execute('DELETE FROM Orders')\n",
        "\n",
        "# Insert data into Customers table\n",
        "cursor.executemany('''\n",
        "INSERT INTO Customers (CustomerID, CustomerName, Country) VALUES (?, ?, ?)\n",
        "''', [\n",
        "    (1, 'Alice', 'USA'),\n",
        "    (2, 'Bob', 'UK'),\n",
        "    (3, 'Charlie', 'USA'),\n",
        "    (4, 'Diana', 'Canada'),\n",
        "    (5, 'Eve', 'Australia')\n",
        "])\n",
        "\n",
        "# Insert data into Orders table\n",
        "cursor.executemany('''\n",
        "INSERT INTO Orders (OrderID, CustomerID, OrderDate, TotalAmount) VALUES (?, ?, ?, ?)\n",
        "''', [\n",
        "    (101, 1, '2024-01-15', 120.50),\n",
        "    (102, 1, '2024-02-10', 80.00),\n",
        "    (103, 2, '2024-01-20', 200.00),\n",
        "    (104, 3, '2024-03-12', 150.00),\n",
        "    (105, 4, '2024-02-05', 60.00),\n",
        "    (106, 5, '2024-03-30', 90.00)\n",
        "])\n",
        "\n",
        "conn.commit()\n",
        "```\n",
        "\n",
        "This will ensure that all previous data is removed, and your new inserts will work without conflicting with the existing records.\n",
        "\n",
        "### Option 2: Use `INSERT OR IGNORE`\n",
        "If you want to insert data but ignore entries that would violate the unique constraint, you can use `INSERT OR IGNORE`. This skips inserting any duplicate `CustomerID` rows without throwing an error.\n",
        "\n",
        "For example:\n",
        "\n",
        "```python\n",
        "cursor.executemany('''\n",
        "INSERT OR IGNORE INTO Customers (CustomerID, CustomerName, Country) VALUES (?, ?, ?)\n",
        "''', [\n",
        "    (1, 'Alice', 'USA'),\n",
        "    (2, 'Bob', 'UK'),\n",
        "    (3, 'Charlie', 'USA'),\n",
        "    (4, 'Diana', 'Canada'),\n",
        "    (5, 'Eve', 'Australia')\n",
        "])\n",
        "\n",
        "# Same for Orders\n",
        "cursor.executemany('''\n",
        "INSERT OR IGNORE INTO Orders (OrderID, CustomerID, OrderDate, TotalAmount) VALUES (?, ?, ?, ?)\n",
        "''', [\n",
        "    (101, 1, '2024-01-15', 120.50),\n",
        "    (102, 1, '2024-02-10', 80.00),\n",
        "    (103, 2, '2024-01-20', 200.00),\n",
        "    (104, 3, '2024-03-12', 150.00),\n",
        "    (105, 4, '2024-02-05', 60.00),\n",
        "    (106, 5, '2024-03-30', 90.00)\n",
        "])\n",
        "\n",
        "conn.commit()\n",
        "```\n",
        "\n",
        "This option prevents the same `CustomerID` from being inserted multiple times.\n",
        "\n",
        "### Option 3: Drop and Recreate the Table\n",
        "If you are testing and want to start fresh each time, you can drop the tables before recreating them:\n",
        "\n",
        "```python\n",
        "# Drop tables if they exist\n",
        "cursor.execute('DROP TABLE IF EXISTS Customers')\n",
        "cursor.execute('DROP TABLE IF EXISTS Orders')\n",
        "\n",
        "# Recreate the tables\n",
        "cursor.execute('''\n",
        "CREATE TABLE Customers (\n",
        "    CustomerID INTEGER PRIMARY KEY,\n",
        "    CustomerName TEXT NOT NULL,\n",
        "    Country TEXT NOT NULL\n",
        ")\n",
        "''')\n",
        "\n",
        "cursor.execute('''\n",
        "CREATE TABLE Orders (\n",
        "    OrderID INTEGER PRIMARY KEY,\n",
        "    CustomerID INTEGER,\n",
        "    OrderDate TEXT NOT NULL,\n",
        "    TotalAmount REAL,\n",
        "    FOREIGN KEY (CustomerID) REFERENCES Customers(CustomerID)\n",
        ")\n",
        "''')\n",
        "\n",
        "# Insert data again\n",
        "cursor.executemany('''\n",
        "INSERT INTO Customers (CustomerID, CustomerName, Country) VALUES (?, ?, ?)\n",
        "''', [\n",
        "    (1, 'Alice', 'USA'),\n",
        "    (2, 'Bob', 'UK'),\n",
        "    (3, 'Charlie', 'USA'),\n",
        "    (4, 'Diana', 'Canada'),\n",
        "    (5, 'Eve', 'Australia')\n",
        "])\n",
        "\n",
        "cursor.executemany('''\n",
        "INSERT INTO Orders (OrderID, CustomerID, OrderDate, TotalAmount) VALUES (?, ?, ?, ?)\n",
        "''', [\n",
        "    (101, 1, '2024-01-15', 120.50),\n",
        "    (102, 1, '2024-02-10', 80.00),\n",
        "    (103, 2, '2024-01-20', 200.00),\n",
        "    (104, 3, '2024-03-12', 150.00),\n",
        "    (105, 4, '2024-02-05', 60.00),\n",
        "    (106, 5, '2024-03-30', 90.00)\n",
        "])\n",
        "\n",
        "conn.commit()\n",
        "```\n",
        "\n",
        "This ensures you're always working with a fresh table and will avoid any conflicts."
      ],
      "metadata": {
        "id": "EZQ5yKXMk2jN"
      }
    },
    {
      "cell_type": "markdown",
      "source": [
        "# Insert data into Customers table\n",
        "cursor.executemany('''\n",
        "INSERT INTO Customers (CustomerID, CustomerName, Country) VALUES (?, ?, ?)\n",
        "''', [\n",
        "    (1, 'Alice', 'USA'),\n",
        "    (2, 'Bob', 'UK'),\n",
        "    (3, 'Charlie', 'USA'),\n",
        "    (4, 'Diana', 'Canada'),\n",
        "    (5, 'Eve', 'Australia')\n",
        "])\n",
        "\n",
        "# Insert data into Orders table\n",
        "cursor.executemany('''\n",
        "INSERT INTO Orders (OrderID, CustomerID, OrderDate, TotalAmount) VALUES (?, ?, ?, ?)\n",
        "''', [\n",
        "    (101, 1, '2024-01-15', 120.50),\n",
        "    (102, 1, '2024-02-10', 80.00),\n",
        "    (103, 2, '2024-01-20', 200.00),\n",
        "    (104, 3, '2024-03-12', 150.00),\n",
        "    (105, 4, '2024-02-05', 60.00),\n",
        "    (106, 5, '2024-03-30', 90.00)\n",
        "])\n",
        "\n",
        "conn.commit()\n"
      ],
      "metadata": {
        "id": "Yv9mO-_0lFPS"
      }
    },
    {
      "cell_type": "code",
      "source": [
        "# Clear the Customers table before inserting\n",
        "cursor.execute('DELETE FROM Customers')\n",
        "\n",
        "# Clear the Orders table before inserting\n",
        "cursor.execute('DELETE FROM Orders')\n",
        "\n",
        "# Insert data into Customers table\n",
        "cursor.executemany('''\n",
        "INSERT INTO Customers (CustomerID, CustomerName, Country) VALUES (?, ?, ?)\n",
        "''', [\n",
        "    (1, 'Alice', 'USA'),\n",
        "    (2, 'Bob', 'UK'),\n",
        "    (3, 'Charlie', 'USA'),\n",
        "    (4, 'Diana', 'Canada'),\n",
        "    (5, 'Eve', 'Australia')\n",
        "])\n",
        "\n",
        "# Insert data into Orders table\n",
        "cursor.executemany('''\n",
        "INSERT INTO Orders (OrderID, CustomerID, OrderDate, TotalAmount) VALUES (?, ?, ?, ?)\n",
        "''', [\n",
        "    (101, 1, '2024-01-15', 120.50),\n",
        "    (102, 1, '2024-02-10', 80.00),\n",
        "    (103, 2, '2024-01-20', 200.00),\n",
        "    (104, 3, '2024-03-12', 150.00),\n",
        "    (105, 4, '2024-02-05', 60.00),\n",
        "    (106, 5, '2024-03-30', 90.00)\n",
        "])\n",
        "\n",
        "conn.commit()\n"
      ],
      "metadata": {
        "id": "2JihsXMxh-sk"
      },
      "execution_count": 18,
      "outputs": []
    },
    {
      "cell_type": "markdown",
      "source": [
        "#Step 3: Writing SQL Queries"
      ],
      "metadata": {
        "id": "zTPofsrDiClg"
      }
    },
    {
      "cell_type": "markdown",
      "source": [
        "Problem 1: Customer Orders with Conditional Logic"
      ],
      "metadata": {
        "id": "gtIsISRAiEGT"
      }
    },
    {
      "cell_type": "code",
      "source": [
        "cursor.execute('''\n",
        "SELECT\n",
        "    c.CustomerName,\n",
        "    c.Country,\n",
        "    o.TotalAmount,\n",
        "    CASE\n",
        "        WHEN o.TotalAmount > 150 THEN 'High'\n",
        "        WHEN o.TotalAmount BETWEEN 100 AND 150 THEN 'Medium'\n",
        "        ELSE 'Low'\n",
        "    END AS OrderCategory\n",
        "FROM Orders o\n",
        "JOIN Customers c ON o.CustomerID = c.CustomerID\n",
        "''')\n",
        "\n",
        "results = cursor.fetchall()\n",
        "print(tabulate(results, headers=[\"CustomerName\", \"Country\", \"TotalAmount\", \"OrderCategory\"]))\n"
      ],
      "metadata": {
        "colab": {
          "base_uri": "https://localhost:8080/"
        },
        "id": "7_bjY92viHMJ",
        "outputId": "efca6ac7-605f-4c18-a9bf-3be69868aa39"
      },
      "execution_count": 19,
      "outputs": [
        {
          "output_type": "stream",
          "name": "stdout",
          "text": [
            "CustomerName    Country      TotalAmount  OrderCategory\n",
            "--------------  ---------  -------------  ---------------\n",
            "Alice           USA                120.5  Medium\n",
            "Alice           USA                 80    Low\n",
            "Bob             UK                 200    High\n",
            "Charlie         USA                150    Medium\n",
            "Diana           Canada              60    Low\n",
            "Eve             Australia           90    Low\n"
          ]
        }
      ]
    },
    {
      "cell_type": "code",
      "source": [],
      "metadata": {
        "id": "oUqrlDu3iKW3"
      },
      "execution_count": 19,
      "outputs": []
    },
    {
      "cell_type": "markdown",
      "source": [
        "Problem 2: Grouping and Aggregation by Country"
      ],
      "metadata": {
        "id": "rCl73t8BiLSa"
      }
    },
    {
      "cell_type": "code",
      "source": [
        "cursor.execute('''\n",
        "SELECT\n",
        "    c.Country,\n",
        "    COUNT(o.OrderID) AS TotalOrders\n",
        "FROM Orders o\n",
        "JOIN Customers c ON o.CustomerID = c.CustomerID\n",
        "GROUP BY c.Country\n",
        "HAVING COUNT(o.OrderID) > 1\n",
        "''')\n",
        "\n",
        "results = cursor.fetchall()\n",
        "print(tabulate(results, headers=[\"Country\", \"TotalOrders\"]))\n"
      ],
      "metadata": {
        "colab": {
          "base_uri": "https://localhost:8080/"
        },
        "id": "64fy-RDFiM8T",
        "outputId": "2b8c6bf2-e865-446c-da46-50db66cf9118"
      },
      "execution_count": 20,
      "outputs": [
        {
          "output_type": "stream",
          "name": "stdout",
          "text": [
            "Country      TotalOrders\n",
            "---------  -------------\n",
            "USA                    3\n"
          ]
        }
      ]
    },
    {
      "cell_type": "markdown",
      "source": [
        "Problem 3: Combining Tables with Joins (Outer Join)\n",
        "SQLite doesn't directly support OUTER JOIN, so you can use a LEFT JOIN to include customers who haven’t placed an order."
      ],
      "metadata": {
        "id": "o-rqvLlkiPxs"
      }
    },
    {
      "cell_type": "code",
      "source": [
        "cursor.execute('''\n",
        "SELECT\n",
        "    c.CustomerName,\n",
        "    o.OrderID,\n",
        "    o.TotalAmount\n",
        "FROM Customers c\n",
        "LEFT JOIN Orders o ON c.CustomerID = o.CustomerID\n",
        "''')\n",
        "\n",
        "results = cursor.fetchall()\n",
        "print(tabulate(results, headers=[\"CustomerName\", \"OrderID\", \"TotalAmount\"]))\n"
      ],
      "metadata": {
        "colab": {
          "base_uri": "https://localhost:8080/"
        },
        "id": "HyncKmdviRRh",
        "outputId": "411511cd-daf7-4238-cb2f-d978fbee780d"
      },
      "execution_count": 21,
      "outputs": [
        {
          "output_type": "stream",
          "name": "stdout",
          "text": [
            "CustomerName      OrderID    TotalAmount\n",
            "--------------  ---------  -------------\n",
            "Alice                 102           80\n",
            "Alice                 101          120.5\n",
            "Bob                   103          200\n",
            "Charlie               104          150\n",
            "Diana                 105           60\n",
            "Eve                   106           90\n"
          ]
        }
      ]
    },
    {
      "cell_type": "markdown",
      "source": [
        "Problem 4: Subqueries"
      ],
      "metadata": {
        "id": "Ghunb1xqiT2x"
      }
    },
    {
      "cell_type": "code",
      "source": [
        "cursor.execute('''\n",
        "SELECT\n",
        "    c.CustomerName,\n",
        "    o.TotalAmount\n",
        "FROM Orders o\n",
        "JOIN Customers c ON o.CustomerID = c.CustomerID\n",
        "WHERE o.TotalAmount > (SELECT AVG(TotalAmount) FROM Orders)\n",
        "''')\n",
        "\n",
        "results = cursor.fetchall()\n",
        "print(tabulate(results, headers=[\"CustomerName\", \"TotalAmount\"]))\n"
      ],
      "metadata": {
        "colab": {
          "base_uri": "https://localhost:8080/"
        },
        "id": "PZmjBMFqiViC",
        "outputId": "7c798b63-aa81-47b1-dee8-8b68bb296550"
      },
      "execution_count": 22,
      "outputs": [
        {
          "output_type": "stream",
          "name": "stdout",
          "text": [
            "CustomerName      TotalAmount\n",
            "--------------  -------------\n",
            "Alice                   120.5\n",
            "Bob                     200\n",
            "Charlie                 150\n"
          ]
        }
      ]
    },
    {
      "cell_type": "markdown",
      "source": [
        "Problem 5: Using a CTE for Average Order Amount"
      ],
      "metadata": {
        "id": "Y17JU7AwiX2q"
      }
    },
    {
      "cell_type": "code",
      "source": [
        "cursor.execute('''\n",
        "WITH CountryAverage AS (\n",
        "    SELECT\n",
        "        c.Country,\n",
        "        AVG(o.TotalAmount) AS AvgAmount\n",
        "    FROM Orders o\n",
        "    JOIN Customers c ON o.CustomerID = c.CustomerID\n",
        "    GROUP BY c.Country\n",
        ")\n",
        "SELECT\n",
        "    c.CustomerName,\n",
        "    o.TotalAmount\n",
        "FROM Orders o\n",
        "JOIN Customers c ON o.CustomerID = c.CustomerID\n",
        "JOIN CountryAverage ca ON c.Country = ca.Country\n",
        "WHERE o.TotalAmount > ca.AvgAmount\n",
        "''')\n",
        "\n",
        "results = cursor.fetchall()\n",
        "print(tabulate(results, headers=[\"CustomerName\", \"TotalAmount\"]))\n"
      ],
      "metadata": {
        "colab": {
          "base_uri": "https://localhost:8080/"
        },
        "id": "GZfbLyo2iZgX",
        "outputId": "6a5aa79a-dbb1-4de8-8f00-2a887d42d683"
      },
      "execution_count": 23,
      "outputs": [
        {
          "output_type": "stream",
          "name": "stdout",
          "text": [
            "CustomerName      TotalAmount\n",
            "--------------  -------------\n",
            "Alice                   120.5\n",
            "Charlie                 150\n"
          ]
        }
      ]
    },
    {
      "cell_type": "markdown",
      "source": [
        "# Step 4: Closing the Database Connection\n",
        "Don't forget to close the database connection when you're done."
      ],
      "metadata": {
        "id": "iNdVzE45ihZp"
      }
    },
    {
      "cell_type": "code",
      "source": [
        "conn.close()\n"
      ],
      "metadata": {
        "id": "w4z78xbyilXb"
      },
      "execution_count": 14,
      "outputs": []
    },
    {
      "cell_type": "markdown",
      "source": [
        "# Full Python Code for Google Colab"
      ],
      "metadata": {
        "id": "2sXl5oTzirY1"
      }
    },
    {
      "cell_type": "code",
      "source": [
        "import sqlite3\n",
        "from tabulate import tabulate\n",
        "\n",
        "# Connect to SQLite database\n",
        "conn = sqlite3.connect('customer_orders.db')\n",
        "cursor = conn.cursor()\n",
        "\n",
        "# Create Customers and Orders table\n",
        "cursor.execute('''\n",
        "CREATE TABLE IF NOT EXISTS Customers (\n",
        "    CustomerID INTEGER PRIMARY KEY,\n",
        "    CustomerName TEXT NOT NULL,\n",
        "    Country TEXT NOT NULL\n",
        ")\n",
        "''')\n",
        "\n",
        "cursor.execute('''\n",
        "CREATE TABLE IF NOT EXISTS Orders (\n",
        "    OrderID INTEGER PRIMARY KEY,\n",
        "    CustomerID INTEGER,\n",
        "    OrderDate TEXT NOT NULL,\n",
        "    TotalAmount REAL,\n",
        "    FOREIGN KEY (CustomerID) REFERENCES Customers(CustomerID)\n",
        ")\n",
        "''')\n",
        "\n",
        "# Insert data into Customers table\n",
        "cursor.executemany('''\n",
        "INSERT INTO Customers (CustomerID, CustomerName, Country) VALUES (?, ?, ?)\n",
        "''', [\n",
        "    (1, 'Alice', 'USA'),\n",
        "    (2, 'Bob', 'UK'),\n",
        "    (3, 'Charlie', 'USA'),\n",
        "    (4, 'Diana', 'Canada'),\n",
        "    (5, 'Eve', 'Australia')\n",
        "])\n",
        "\n",
        "# Insert data into Orders table\n",
        "cursor.executemany('''\n",
        "INSERT INTO Orders (OrderID, CustomerID, OrderDate, TotalAmount) VALUES (?, ?, ?, ?)\n",
        "''', [\n",
        "    (101, 1, '2024-01-15', 120.50),\n",
        "    (102, 1, '2024-02-10', 80.00),\n",
        "    (103, 2, '2024-01-20', 200.00),\n",
        "    (104, 3, '2024-03-12', 150.00),\n",
        "    (105, 4, '2024-02-05', 60.00),\n",
        "    (106, 5, '2024-03-30', 90.00)\n",
        "])\n",
        "\n",
        "conn.commit()\n",
        "\n",
        "# Queries\n",
        "# Problem 1\n",
        "cursor.execute('''\n",
        "SELECT\n",
        "    c.CustomerName,\n",
        "    c.Country,\n",
        "    o.TotalAmount,\n",
        "    CASE\n",
        "        WHEN o.TotalAmount > 150 THEN 'High'\n",
        "        WHEN o.TotalAmount BETWEEN 100 AND 150 THEN 'Medium'\n",
        "        ELSE 'Low'\n",
        "    END AS OrderCategory\n",
        "FROM Orders o\n",
        "JOIN Customers c ON o.CustomerID = c.CustomerID\n",
        "''')\n",
        "\n",
        "results = cursor.fetchall()\n",
        "print(tabulate(results, headers=[\"CustomerName\", \"Country\", \"TotalAmount\", \"OrderCategory\"]))\n",
        "\n",
        "# Problem 2\n",
        "cursor.execute('''\n",
        "SELECT\n",
        "    c.Country,\n",
        "    COUNT(o.OrderID) AS TotalOrders\n",
        "FROM Orders o\n",
        "JOIN Customers c ON o.CustomerID = c.CustomerID\n",
        "GROUP BY c.Country\n",
        "HAVING COUNT(o.OrderID) > 1\n",
        "''')\n",
        "\n",
        "results = cursor.fetchall()\n",
        "print(tabulate(results, headers=[\"Country\", \"TotalOrders\"]))\n",
        "\n",
        "# Problem 3\n",
        "cursor.execute('''\n",
        "SELECT\n",
        "    c.CustomerName,\n",
        "    o.OrderID,\n",
        "    o.TotalAmount\n",
        "FROM Customers c\n",
        "LEFT JOIN Orders o ON c.CustomerID = o.CustomerID\n",
        "''')\n",
        "\n",
        "results = cursor.fetchall()\n",
        "print(tabulate(results, headers=[\"CustomerName\", \"OrderID\", \"TotalAmount\"]))\n",
        "\n",
        "# Problem 4\n",
        "cursor.execute('''\n",
        "SELECT\n",
        "    c.CustomerName,\n",
        "    o.TotalAmount\n",
        "FROM Orders o\n",
        "JOIN Customers c ON o.CustomerID = c.CustomerID\n",
        "WHERE o.TotalAmount > (SELECT AVG(TotalAmount) FROM Orders)\n",
        "''')\n",
        "\n",
        "results = cursor.fetchall()\n",
        "print(tabulate(results, headers=[\"CustomerName\", \"TotalAmount\"]))\n",
        "\n",
        "# Problem 5\n",
        "cursor.execute('''\n",
        "WITH CountryAverage AS (\n",
        "    SELECT\n",
        "        c.Country,\n",
        "        AVG(o.TotalAmount) AS AvgAmount\n",
        "    FROM Orders o\n",
        "    JOIN Customers c ON o.CustomerID = c.CustomerID\n",
        "    GROUP BY c.Country\n",
        ")\n",
        "SELECT\n",
        "    c.CustomerName,\n",
        "    o.TotalAmount\n",
        "FROM Orders o\n",
        "JOIN Customers c ON o.CustomerID = c.CustomerID\n",
        "JOIN CountryAverage ca ON c.Country = ca.Country\n",
        "WHERE o.TotalAmount > ca.AvgAmount\n",
        "''')\n",
        "\n",
        "results = cursor.fetchall()\n",
        "print(tabulate(results, headers=[\"CustomerName\", \"TotalAmount\"]))\n",
        "\n",
        "# Close connection\n",
        "conn.close()\n"
      ],
      "metadata": {
        "colab": {
          "base_uri": "https://localhost:8080/"
        },
        "id": "eI55zqk-hYxd",
        "outputId": "547a47bf-6ea2-41ef-dc1e-587ce3e1dad4"
      },
      "execution_count": 2,
      "outputs": [
        {
          "output_type": "stream",
          "name": "stdout",
          "text": [
            "CustomerName    Country      TotalAmount  OrderCategory\n",
            "--------------  ---------  -------------  ---------------\n",
            "Alice           USA                120.5  Medium\n",
            "Alice           USA                 80    Low\n",
            "Bob             UK                 200    High\n",
            "Charlie         USA                150    Medium\n",
            "Diana           Canada              60    Low\n",
            "Eve             Australia           90    Low\n",
            "Country      TotalOrders\n",
            "---------  -------------\n",
            "USA                    3\n",
            "CustomerName      OrderID    TotalAmount\n",
            "--------------  ---------  -------------\n",
            "Alice                 102           80\n",
            "Alice                 101          120.5\n",
            "Bob                   103          200\n",
            "Charlie               104          150\n",
            "Diana                 105           60\n",
            "Eve                   106           90\n",
            "CustomerName      TotalAmount\n",
            "--------------  -------------\n",
            "Alice                   120.5\n",
            "Bob                     200\n",
            "Charlie                 150\n",
            "CustomerName      TotalAmount\n",
            "--------------  -------------\n",
            "Alice                   120.5\n",
            "Charlie                 150\n"
          ]
        }
      ]
    },
    {
      "cell_type": "markdown",
      "source": [
        "# Test"
      ],
      "metadata": {
        "id": "Nsd8k2M9kCIS"
      }
    }
  ]
}